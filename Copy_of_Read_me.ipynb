{
  "nbformat": 4,
  "nbformat_minor": 0,
  "metadata": {
    "colab": {
      "provenance": [],
      "include_colab_link": true
    },
    "kernelspec": {
      "name": "python3",
      "display_name": "Python 3"
    },
    "language_info": {
      "name": "python"
    }
  },
  "cells": [
    {
      "cell_type": "markdown",
      "metadata": {
        "id": "view-in-github",
        "colab_type": "text"
      },
      "source": [
        "<a href=\"https://colab.research.google.com/github/San7122/Yes-Bank-Stock-Closing-Price-Prediction/blob/main/Copy_of_Read_me.ipynb\" target=\"_parent\"><img src=\"https://colab.research.google.com/assets/colab-badge.svg\" alt=\"Open In Colab\"/></a>"
      ]
    },
    {
      "cell_type": "markdown",
      "source": [
        " Regression Analysis On Yes Bank Stock Closing Price Prediction.<h1>\n",
        "\n",
        "\n",
        "\n",
        "\n",
        "\n",
        "\n",
        "\n",
        "![N|Solid](https://upload.wikimedia.org/wikipedia/commons/d/d1/Yes_Bank_Logo-01.png)\n",
        "\n",
        "\n",
        "\n",
        "\n",
        "## This repository contains the code and dataset for predicting the closing price of Yes Bank stock using regression analysis. The project uses a dataset containing historical stock prices of Yes Bank from 2005 to 2020\n",
        "\n",
        "\n",
        "\n",
        "\n",
        "\n",
        "## Problem Statement\n",
        "Yes Bank is a well-known bank in the Indian financial domain. Since 2018, it has\n",
        "been in the news because of the fraud case involving Rana Kapoor. Owing to this\n",
        "fact, it was interesting to see how that impacted the stock prices of the company\n",
        "and whether any predictive models can do justice to such situations. This dataset\n",
        "has monthly stock prices of the bank since its inception and includes closing,\n",
        "starting, highest, and lowest stock prices of every month. The main objective is\n",
        "to predict the stock’s closing price of the month.\n",
        "\n",
        "##  💾 Project Files Description\n",
        "\n",
        "<p>This Project includes :-\n",
        "  <li>Google Colab NoteBook</li>\n",
        "  <li>Project Summary (with the GitHub Repo link inside)</li>\n",
        "  <li>Presentation Video</li>\n",
        "</p>\n",
        "\n",
        "\n",
        "\n",
        "\n",
        "### Data Source:\n",
        "- [Dataset](https://raw.githubusercontent.com/Datawithabhishek/Yes-Bank-Stock-Closing-Price-Prediction/main/data_YesBank_StockPrices.csv) - Dataset taken from AlmaBetter\n",
        "\n",
        "### Input Files:\n",
        "  <li><b>data_YesBank_StockPrices.csv</b> - It contains monthly observation of stock parameter such as open, high , low and close.</li>\n",
        "\n",
        "\n",
        "\n",
        "  ## 🗺️ Roadmap and Navigation guide\n",
        "\n",
        "<hr>\n",
        "\n",
        "### Step 1: Data Collection\n",
        "Collect the historical stock prices of Yes Bank from January 2005 to September 2020. Include variables such as opening price, highest price, lowest price, and closing price and date\n",
        "\n",
        "<hr>\n",
        "\n",
        "### Step 2: Data Cleaning and Preprocessing\n",
        "Clean the dataset by removing any missing values, outliers, or errors. Preprocess the dataset by scaling or normalizing the features as necessary.\n",
        "\n",
        "<hr>\n",
        "\n",
        "### Step 3: Regression Model Building\n",
        "Divide the dataset into training and testing sets. Implement Multiple Linear Regression ,Lasso Regression, Ridge Regression, Elastic net Regression, knn regressor and Random forest regressor models to predict the closing price of Yes Bank stock. Tune the models by adjusting the hyperparameters to optimize performance.\n",
        "\n",
        "<hr>\n",
        "\n",
        "### Step 4: Model Evaluation\n",
        "Evaluate the models' performance using root mean squared error (RMSE) and mean absolute error (MAE) metrics. Compare the performance of the models to determine which one performs better.\n",
        "\n",
        "<hr>\n",
        "\n",
        "### Step 5: Results and Conclusion\n",
        "Present the results of the regression analysis. Discuss the implications of the results and their potential impact on investors. Provide conclusions and suggestions for future research.\n",
        "\n",
        "![--------------------------------------------------------------------------------------------](https://github.com/andreasbm/readme/blob/master/assets/lines/grass.png)\n",
        "\n",
        "## 🛠️ Builds with\n",
        "\n",
        "![Python](https://img.shields.io/badge/Python-FFD43B?style=for-the-badge&logo=python&logoColor=blue)\n",
        "\n",
        "![NumPy](https://img.shields.io/badge/Numpy-777BB4?style=for-the-badge&logo=numpy&logoColor=white)\n",
        "\n",
        "![Pandas](https://img.shields.io/badge/Pandas-2C2D72?style=for-the-badge&logo=pandas&logoColor=white)\n",
        "\n",
        "![Matplotlib](https://img.shields.io/badge/Matplotlib-%23ffffff.svg?style=for-the-badge&logo=Matplotlib&logoColor=black)\n",
        "\n",
        "![Seaborn](https://img.shields.io/badge/Seaborn-blue?style=for-the-badge&logo=Seaborn)\n",
        "\n",
        "![scikit-learn](https://img.shields.io/badge/scikit--learn-%23F7931E.svg?style=for-the-badge&logo=scikit-learn&logoColor=white)\n",
        "\n",
        "![SciPy](https://img.shields.io/badge/SciPy-%230C55A5.svg?style=for-the-badge&logo=scipy&logoColor=%white)\n",
        "\n",
        "![Plotly](https://img.shields.io/badge/Plotly-%233F4F75.svg?style=for-the-badge&logo=plotly&logoColor=white)\n",
        "\n",
        "![GoogleColab](https://img.shields.io/badge/GoogleColab-orange?style=for-the-badge&logo=GoogleColab)\n",
        "\n",
        "\n",
        "\n",
        "\n",
        "\n",
        "\n",
        "\n",
        "\n",
        "\n",
        "\n",
        "##Conclusion\n",
        "\n",
        "After implementing various regression model and analyzing their respective performance matrics we came to the conclusion that the <b>\"KNN Regressor\"</b> is  top performing models with respect to all the matrics. But when we look for the cross validation score and other factores such as time complexity"
      ],
      "metadata": {
        "id": "cTRsgoxNQO0F"
      }
    },
    {
      "cell_type": "markdown",
      "source": [
        "                              **Thank you**"
      ],
      "metadata": {
        "id": "nqaY9tALQ-D6"
      }
    }
  ]
}